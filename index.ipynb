{
 "cells": [
  {
   "cell_type": "markdown",
   "metadata": {},
   "source": [
    "# Gradient Descent: Step Sizes - Lab"
   ]
  },
  {
   "cell_type": "markdown",
   "metadata": {},
   "source": [
    "## Introduction"
   ]
  },
  {
   "cell_type": "markdown",
   "metadata": {},
   "source": [
    "In this lab, we'll practice applying gradient descent.  As we know gradient descent begins with an initial regression line, and moves to a \"best fit\" regression line by changing values of $m$ and $b$ and evaluating the RSS.  So far, we have illustrated this technique by changing the values of $b$ and evaluating the RSS.  In this lab, we will work through applying our technique by changing the value of $m$ instead.  Let's get started."
   ]
  },
  {
   "cell_type": "markdown",
   "metadata": {},
   "source": [
    "## Objectives"
   ]
  },
  {
   "cell_type": "markdown",
   "metadata": {},
   "source": [
    "You will be able to:\n",
    "\n",
    "- Understand how to go from RSS to finding a \"best fit\" line\n",
    "- Understand how gradient descent can be used to find the best intercept for your linear regression model"
   ]
  },
  {
   "cell_type": "markdown",
   "metadata": {},
   "source": [
    "## Setting up our initial regression line"
   ]
  },
  {
   "cell_type": "markdown",
   "metadata": {},
   "source": [
    "Once again, we'll take take a look at revenues our data example, which looks like this:"
   ]
  },
  {
   "cell_type": "code",
   "execution_count": 3,
   "metadata": {},
   "outputs": [
    {
     "data": {
      "image/png": "[encoded data removed]",
      "text/plain": [
       "<Figure size 432x288 with 1 Axes>"
      ]
     },
     "metadata": {},
     "output_type": "display_data"
    }
   ],
   "source": [
    "import numpy as np\n",
    "np.set_printoptions(formatter={'float_kind':'{:f}'.format})\n",
    "import matplotlib.pyplot as plt\n",
    "plt.style.use('ggplot')\n",
    "np.random.seed(225)\n",
    "\n",
    "x = np.random.rand(30, 1).reshape(30)\n",
    "y_randterm = np.random.normal(0,3,30)\n",
    "y = 3+ 50* x + y_randterm\n",
    "\n",
    "plt.plot(x, y, '.b')\n",
    "plt.xlabel(\"x\", fontsize=14)\n",
    "plt.ylabel(\"y\", fontsize=14);"
   ]
  },
  {
   "cell_type": "markdown",
   "metadata": {},
   "source": [
    "We can start with some values for an initial not-so-accurate regression line, $y = 43x + 12$."
   ]
  },
  {
   "cell_type": "code",
   "execution_count": 4,
   "metadata": {},
   "outputs": [],
   "source": [
    "def regression_formula(x):\n",
    "    return 12 + 43*x"
   ]
  },
  {
   "cell_type": "code",
   "execution_count": 5,
   "metadata": {},
   "outputs": [
    {
     "data": {
      "image/png": "[encoded data removed]",
      "text/plain": [
       "<Figure size 432x288 with 1 Axes>"
      ]
     },
     "metadata": {},
     "output_type": "display_data"
    }
   ],
   "source": [
    "np.random.seed(225)\n",
    "\n",
    "x = np.random.rand(30,1).reshape(30)\n",
    "y_randterm = np.random.normal(0,3,30)\n",
    "y = 3+ 50* x + y_randterm\n",
    "\n",
    "plt.plot(x, y, '.b')\n",
    "plt.plot(x, regression_formula(x), '-')\n",
    "plt.xlabel(\"x\", fontsize=14)\n",
    "plt.ylabel(\"y\", fontsize=14);"
   ]
  },
  {
   "cell_type": "code",
   "execution_count": 6,
   "metadata": {},
   "outputs": [],
   "source": [
    "def errors(x_values, y_values, m, b):\n",
    "    y_line = (b + m*x_values)\n",
    "    return (y_values - y_line)\n",
    "\n",
    "def squared_errors(x_values, y_values, m, b):\n",
    "    return errors(x_values, y_values, m, b)**2\n",
    "\n",
    "def residual_sum_squares(x_values, y_values, m, b):\n",
    "    return sum(squared_errors(x_values, y_values, m, b))"
   ]
  },
  {
   "cell_type": "markdown",
   "metadata": {},
   "source": [
    "Now using the `residual_sum_squares`, function, we calculate the RSS to measure the accuracy of the regression line to our data.  Let's take another look at that function:"
   ]
  },
  {
   "cell_type": "code",
   "execution_count": 7,
   "metadata": {},
   "outputs": [
    {
     "data": {
      "text/plain": [
       "1117.8454014417434"
      ]
     },
     "execution_count": 7,
     "metadata": {},
     "output_type": "execute_result"
    }
   ],
   "source": [
    "residual_sum_squares(x, y , 43, 12) "
   ]
  },
  {
   "cell_type": "markdown",
   "metadata": {},
   "source": [
    "### Building a cost curve"
   ]
  },
  {
   "cell_type": "markdown",
   "metadata": {},
   "source": [
    "Now let's use the `residual_sum_squares` function to build a cost curve.  Keeping the $m$ value fixed at $43$, write a function called `rss_values`.  \n",
    "* `rss_values` passes our dataset with the `x_values` and `y_values` arguments.  \n",
    "* It also takes a list of values of $b$, and an initial $m$ value as arguments.  \n",
    "* It outputs a numpy array with a first column of `b_values` and `rss_values`, with each key pointing to a list of the corresponding values."
   ]
  },
  {
   "cell_type": "code",
   "execution_count": 16,
   "metadata": {},
   "outputs": [],
   "source": [
    "def rss_values(x_values, y_values, m, b_values):\n",
    "    rss_values = np.zeros((len(b_values), 2))\n",
    "    for idx, val in enumerate(b_values):\n",
    "        rss_values[idx,0] = val\n",
    "        rss_values[idx,1] = residual_sum_squares(x, y, m, val)\n",
    "    return rss_values"
   ]
  },
  {
   "cell_type": "markdown",
   "metadata": {},
   "source": [
    "Now loop over a list with $b$ values between 0 and 14 with steps of 0.5. Store it in bval_RSS. Print out the resulting table."
   ]
  },
  {
   "cell_type": "code",
   "execution_count": 25,
   "metadata": {},
   "outputs": [
    {
     "name": "stdout",
     "output_type": "stream",
     "text": [
      "            0.00          1750.97\n",
      "            1.00          1368.21\n",
      "            2.00          1045.45\n",
      "            3.00           782.69\n",
      "            4.00           579.93\n",
      "            5.00           437.17\n",
      "            6.00           354.41\n",
      "            7.00           331.65\n",
      "            8.00           368.89\n",
      "            9.00           466.13\n",
      "           10.00           623.37\n",
      "           11.00           840.61\n",
      "           12.00          1117.85\n",
      "           13.00          1455.08\n",
      "           14.00          1852.32\n"
     ]
    }
   ],
   "source": [
    "import sys\n",
    "b_val = list(range(0, 15, 1))\n",
    "bval_RSS = rss_values(x, y, 43, b_val)\n",
    "np.savetxt(sys.stdout, bval_RSS, '%16.2f')  #this line is to round your result, which will make things look nicer."
   ]
  },
  {
   "cell_type": "markdown",
   "metadata": {},
   "source": [
    "Plotly provides for us a table chart, and we can pass the values generated from our `rss_values` function to create a table."
   ]
  },
  {
   "cell_type": "markdown",
   "metadata": {},
   "source": [
    "And let's plot this out using a a line chart."
   ]
  },
  {
   "cell_type": "code",
   "execution_count": 26,
   "metadata": {},
   "outputs": [
    {
     "data": {
      "image/png": "[encoded data removed]",
      "text/plain": [
       "<Figure size 720x504 with 1 Axes>"
      ]
     },
     "metadata": {},
     "output_type": "display_data"
    }
   ],
   "source": [
    "plt.figure(figsize=(10,7))\n",
    "plt.plot(bval_RSS[:,0], bval_RSS[:,1], '-')\n",
    "plt.xlabel(\"b-values\", fontsize=14)\n",
    "plt.ylabel(\"RSS\", fontsize=14)\n",
    "plt.title(\"RSS with changes to intercept\", fontsize=16);"
   ]
  },
  {
   "cell_type": "markdown",
   "metadata": {},
   "source": [
    "## Looking at the slope of our cost curve"
   ]
  },
  {
   "cell_type": "markdown",
   "metadata": {},
   "source": [
    "In this section, we'll work up to building a gradient descent function that automatically changes our step size.  To get you started, we'll provide a function called `slope_at` that calculates the slope of the cost curve at a given point on the cost curve.  `Use the slope_at` function for b-values 3 and 6."
   ]
  },
  {
   "cell_type": "code",
   "execution_count": 27,
   "metadata": {},
   "outputs": [],
   "source": [
    "def slope_at(x_values, y_values, m, b):\n",
    "    delta = .001\n",
    "    base_rss = residual_sum_squares(x_values, y_values, m, b)\n",
    "    delta_rss = residual_sum_squares(x_values, y_values, m, b + delta)\n",
    "    numerator = delta_rss - base_rss\n",
    "    slope = numerator/delta\n",
    "    return {'b': b, 'slope': slope}"
   ]
  },
  {
   "cell_type": "code",
   "execution_count": 28,
   "metadata": {},
   "outputs": [
    {
     "data": {
      "text/plain": [
       "{'b': 3, 'slope': -232.73066022784406}"
      ]
     },
     "execution_count": 28,
     "metadata": {},
     "output_type": "execute_result"
    }
   ],
   "source": [
    "# Use slope_at\n",
    "slope_at(x, y, 43, 3)\n",
    "\n",
    "#{'b': 3, 'slope': -232.73066022784406}"
   ]
  },
  {
   "cell_type": "code",
   "execution_count": 30,
   "metadata": {},
   "outputs": [
    {
     "data": {
      "text/plain": [
       "{'b': 6, 'slope': -52.73066022772355}"
      ]
     },
     "execution_count": 30,
     "metadata": {},
     "output_type": "execute_result"
    }
   ],
   "source": [
    "# Use slope_at\n",
    "slope_at(x, y, 43, 6)\n",
    "\n",
    "#{'b': 6, 'slope': -52.73066022772355}"
   ]
  },
  {
   "cell_type": "markdown",
   "metadata": {},
   "source": [
    "So the `slope_at` function takes in our dataset, and returns the slope of the cost curve at that point.  So the numbers -232.73 and -52.73 reflect the slopes at the cost curve when b is 3 and 6 respectively."
   ]
  },
  {
   "cell_type": "code",
   "execution_count": 31,
   "metadata": {},
   "outputs": [],
   "source": [
    "slope_3= slope_at(x, y, 43, 3)['slope']\n",
    "slope_6 = slope_at(x, y, 43, 6)['slope']\n",
    "\n",
    "x_3 = np.linspace(3-1, 3+1, 100)\n",
    "x_6 = np.linspace(6-1, 6+1, 100)\n",
    "\n",
    "rss_3 = residual_sum_squares(x, y, 43, 3)\n",
    "rss_6 = residual_sum_squares(x, y, 43, 6)\n",
    "\n",
    "tan_3 = rss_3+slope_3*(x_3-3)\n",
    "tan_6 = rss_6+slope_6*(x_6-6)"
   ]
  },
  {
   "cell_type": "code",
   "execution_count": 32,
   "metadata": {},
   "outputs": [
    {
     "data": {
      "image/png": "[encoded data removed]",
      "text/plain": [
       "<Figure size 720x504 with 1 Axes>"
      ]
     },
     "metadata": {},
     "output_type": "display_data"
    }
   ],
   "source": [
    "plt.figure(figsize=(10,7))\n",
    "plt.plot(bval_RSS[:,0], bval_RSS[:,1], '-')\n",
    "plt.plot(x_3, tan_3, color = \"red\",  label = \"slope =\" + str(round(slope_3,2)))\n",
    "plt.plot(x_6, tan_6, color = \"green\",  label = \"slope =\" + str(round(slope_6,2)))\n",
    "\n",
    "plt.xlabel(\"b-values\", fontsize=14)\n",
    "plt.ylabel(\"RSS\", fontsize=14)\n",
    "plt.legend(loc='upper right', fontsize='large')\n",
    "\n",
    "plt.title(\"RSS with changes to slope\", fontsize=16);"
   ]
  },
  {
   "cell_type": "markdown",
   "metadata": {},
   "source": [
    "As you can see, it seems pretty accurate.  When the curve is steeper and downwards at $b = 3$, the slope is around -232.73.  And at $b = 6$ with our cost curve becoming flatter, our slope is around -52.73. "
   ]
  },
  {
   "cell_type": "markdown",
   "metadata": {},
   "source": [
    "## Moving towards gradient descent"
   ]
  },
  {
   "cell_type": "markdown",
   "metadata": {},
   "source": [
    "Now that we are familiar with our `slope_at` function and how it calculates the slope of our cost curve at a given point, we can begin to use that function with our gradient descent procedure.\n",
    "\n",
    "Remember that gradient descent works by starting at a regression line with values m, and b, which corresponds to a point on our cost curve.  Then we alter our m or b value (here, the b value) by looking to the slope of the cost curve at that point.  Then we look to the slope of the cost curve at the new b value to indicate the size and direction of the next step."
   ]
  },
  {
   "cell_type": "markdown",
   "metadata": {},
   "source": [
    "So now let's write a function called `updated_b`.  The function will tell us the step size and direction to move along our cost curve.  The `updated_b` function takes as arguments an initial value of $b$, a learning rate, and the `slope` of the cost curve at that value of $m$.  Its return value is the next value of `b` that it calculates."
   ]
  },
  {
   "cell_type": "code",
   "execution_count": 55,
   "metadata": {},
   "outputs": [],
   "source": [
    "def updated_b(b, learning_rate, cost_curve_slope):\n",
    "    return (0-learning_rate) * cost_curve_slope + b"
   ]
  },
  {
   "cell_type": "markdown",
   "metadata": {},
   "source": [
    "This is what our function returns."
   ]
  },
  {
   "cell_type": "code",
   "execution_count": 56,
   "metadata": {},
   "outputs": [
    {
     "data": {
      "text/plain": [
       "5.3273066022784406"
      ]
     },
     "execution_count": 56,
     "metadata": {},
     "output_type": "execute_result"
    }
   ],
   "source": [
    "current_slope = slope_at(x, y, 43, 3)['slope']\n",
    "updated_b(3, .01, current_slope)\n",
    "# 5.327"
   ]
  },
  {
   "cell_type": "code",
   "execution_count": 57,
   "metadata": {},
   "outputs": [
    {
     "data": {
      "text/plain": [
       "6.2581066022854674"
      ]
     },
     "execution_count": 57,
     "metadata": {},
     "output_type": "execute_result"
    }
   ],
   "source": [
    "current_slope = slope_at(x, y, 43, 5.327)['slope']\n",
    "updated_b(5.327, .01, current_slope)\n",
    "# 6.258"
   ]
  },
  {
   "cell_type": "code",
   "execution_count": 58,
   "metadata": {},
   "outputs": [
    {
     "data": {
      "text/plain": [
       "6.630506602279827"
      ]
     },
     "execution_count": 58,
     "metadata": {},
     "output_type": "execute_result"
    }
   ],
   "source": [
    "current_slope = slope_at(x, y, 43, 6.258)['slope']\n",
    "updated_b(6.258, .01, current_slope)\n",
    "# 6.6305"
   ]
  },
  {
   "cell_type": "code",
   "execution_count": 59,
   "metadata": {},
   "outputs": [
    {
     "data": {
      "text/plain": [
       "6.779706602280413"
      ]
     },
     "execution_count": 59,
     "metadata": {},
     "output_type": "execute_result"
    }
   ],
   "source": [
    "current_slope = slope_at(x, y, 43, 6.631)['slope']\n",
    "updated_b(6.631, .01, current_slope)\n",
    "# 6.780"
   ]
  },
  {
   "cell_type": "markdown",
   "metadata": {},
   "source": [
    "Take a careful look at how we use the `updated_b` function.  By using our updated value of $b$ we are quickly converging towards an optimal value of $b$.   \n",
    "\n",
    "Now let's write another function called `gradient_descent`.  The inputs of the function are `x_values`, `y_values`, `steps`, the `m` we are holding constant, the `learning_rate`, and the `current_b` that we are looking at.  The `steps` arguments represents the number of steps the function will take before the function stops.  We can get a sense of the return value in the cell below.  It is a list of dictionaries, with each dictionary having a key of the current `b` value, the `slope` of the cost curve at that `b` value, and the `rss` at that `b` value."
   ]
  },
  {
   "cell_type": "code",
   "execution_count": 69,
   "metadata": {},
   "outputs": [],
   "source": [
    "def gradient_descent(x_values, y_values, steps, current_b, learning_rate, m):\n",
    "    values = []\n",
    "    b = current_b\n",
    "    for step in range(steps):\n",
    "        dictionary = {}\n",
    "        dictionary['b'] = b\n",
    "        dictionary['rss'] = round(residual_sum_squares(x_values, y_values, m, b), 2)\n",
    "        dictionary['slope'] = round(slope_at(x_values, y_values, m, b)['slope'], 2)\n",
    "        values.append(dictionary)\n",
    "        b = updated_b(b, learning_rate, dictionary['slope'])\n",
    "    return values"
   ]
  },
  {
   "cell_type": "code",
   "execution_count": 70,
   "metadata": {},
   "outputs": [
    {
     "data": {
      "text/plain": [
       "[{'b': 0, 'rss': 1750.97, 'slope': -412.73},\n",
       " {'b': 2.06365, 'rss': 1026.94, 'slope': -288.91},\n",
       " {'b': 3.5082000000000004, 'rss': 672.15, 'slope': -202.24},\n",
       " {'b': 4.519400000000001, 'rss': 498.29, 'slope': -141.57},\n",
       " {'b': 5.227250000000001, 'rss': 413.09, 'slope': -99.1},\n",
       " {'b': 5.7227500000000004, 'rss': 371.34, 'slope': -69.37},\n",
       " {'b': 6.0696, 'rss': 350.88, 'slope': -48.55},\n",
       " {'b': 6.31235, 'rss': 340.86, 'slope': -33.99},\n",
       " {'b': 6.4823, 'rss': 335.94, 'slope': -23.79},\n",
       " {'b': 6.60125, 'rss': 333.53, 'slope': -16.66},\n",
       " {'b': 6.684550000000001, 'rss': 332.35, 'slope': -11.66},\n",
       " {'b': 6.742850000000001, 'rss': 331.77, 'slope': -8.16},\n",
       " {'b': 6.783650000000001, 'rss': 331.49, 'slope': -5.71},\n",
       " {'b': 6.812200000000001, 'rss': 331.35, 'slope': -4.0},\n",
       " {'b': 6.8322, 'rss': 331.28, 'slope': -2.8}]"
      ]
     },
     "execution_count": 70,
     "metadata": {},
     "output_type": "execute_result"
    }
   ],
   "source": [
    "descent_steps = gradient_descent(x, y, 15, 0, .005, 43)\n",
    "descent_steps\n",
    "\n",
    "#[{'b': 0, 'rss': 1750.97, 'slope': -412.73},\n",
    "# {'b': 2.063653301142949, 'rss': 1026.94, 'slope': -288.91},\n",
    "# {'b': 3.5082106119386935, 'rss': 672.15, 'slope': -202.24},\n",
    "# {'b': 4.519400729495828, 'rss': 498.29, 'slope': -141.57},\n",
    "# {'b': 5.2272338117862205, 'rss': 413.1, 'slope': -99.1},\n",
    "# {'b': 5.72271696938941, 'rss': 371.35, 'slope': -69.37},\n",
    "# {'b': 6.06955517971187, 'rss': 350.88, 'slope': -48.56},\n",
    "# {'b': 6.312341926937677, 'rss': 340.86, 'slope': -33.99},\n",
    "# {'b': 6.482292649996282, 'rss': 335.94, 'slope': -23.79},\n",
    "# {'b': 6.601258156136964, 'rss': 333.53, 'slope': -16.66},\n",
    "# {'b': 6.684534010435641, 'rss': 332.35, 'slope': -11.66},\n",
    "# {'b': 6.742827108444089, 'rss': 331.77, 'slope': -8.16},\n",
    "# {'b': 6.7836322770506285, 'rss': 331.49, 'slope': -5.71},\n",
    "# {'b': 6.812195895074922, 'rss': 331.35, 'slope': -4.0},\n",
    "# {'b': 6.832190427692808, 'rss': 331.28, 'slope': -2.8}]"
   ]
  },
  {
   "cell_type": "markdown",
   "metadata": {},
   "source": [
    "Looking at our b-values, you get a pretty good idea of how our gradient descent function works.  It starts far away with $b = 0$, and the step size is relatively large, as is the slope of the cost curve.  As the $b$ value updates such that it approaches a minimum of the RSS, the slope of the cost curve and the size of each step both decrease.     "
   ]
  },
  {
   "cell_type": "markdown",
   "metadata": {},
   "source": [
    "Remember that each of these steps indicates a change in our regression line's slope value towards a \"fit\" that more accurately matches our dataset.  Let's plot the final regression line as found before, with $m=43$ and $b=6.83$"
   ]
  },
  {
   "cell_type": "code",
   "execution_count": 75,
   "metadata": {},
   "outputs": [
    {
     "data": {
      "image/png": "[encoded data removed]",
      "text/plain": [
       "<Figure size 432x288 with 1 Axes>"
      ]
     },
     "metadata": {},
     "output_type": "display_data"
    }
   ],
   "source": [
    "# plot the final result here\n",
    "plt.plot(x, 6.8322 + 43 * x)\n",
    "plt.plot(x, y, '.b')\n",
    "plt.xlabel(\"x\", fontsize=14)\n",
    "plt.ylabel(\"y\", fontsize=14);"
   ]
  },
  {
   "cell_type": "markdown",
   "metadata": {},
   "source": [
    "As you can see, this final intercept value of around $b=6.8$ better matches our data. Remember that the slope was kept constant. You can see that lifting the slope upwards could probably even lead to a better fit!"
   ]
  },
  {
   "cell_type": "markdown",
   "metadata": {},
   "source": [
    "## Summary"
   ]
  },
  {
   "cell_type": "markdown",
   "metadata": {},
   "source": [
    "In this lesson, we learned some more about gradient descent.  We saw how gradient descent allows our function to improve to a regression line that better matches our data.  We see how to change our regression line, by looking at the Residual Sum of Squares related to current regression line. We update our regression line by looking at the rate of change of our RSS as we adjust our regression line in the right direction -- that is, the slope of our cost curve.  The larger the magnitude of our rate of change (or slope of our cost curve) the larger our step size.  This way, we take larger steps the further away we are from our minimizing our RSS, and take smaller steps as we converge towards our minimum RSS. "
   ]
  }
 ],
 "metadata": {
  "kernelspec": {
   "display_name": "Python 3",
   "language": "python",
   "name": "python3"
  },
  "language_info": {
   "codemirror_mode": {
    "name": "ipython",
    "version": 3
   },
   "file_extension": ".py",
   "mimetype": "text/x-python",
   "name": "python",
   "nbconvert_exporter": "python",
   "pygments_lexer": "ipython3",
   "version": "3.7.0"
  }
 },
 "nbformat": 4,
 "nbformat_minor": 2
}
